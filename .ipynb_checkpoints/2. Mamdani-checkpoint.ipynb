{
 "cells": [
  {
   "cell_type": "markdown",
   "id": "1ec27c61-0766-49e7-b062-a08390c55de9",
   "metadata": {},
   "source": [
    "# Introducción a Sistemas de inferencia difusos (SID)\n",
    "Los sistemas de inferencia difusos, son sistemas de control que operan valores de entrada certeros en universos difusos para obtener salidas certeras."
   ]
  },
  {
   "cell_type": "markdown",
   "id": "ea765060-37cb-4ff3-9dc7-c40aef4885dc",
   "metadata": {},
   "source": [
    "## Implementación de un SID de tipo Mamdani"
   ]
  },
  {
   "cell_type": "markdown",
   "id": "4084ba1d-eed6-4509-b379-08159f1375a7",
   "metadata": {},
   "source": [
    "### Librerías y utilidades"
   ]
  },
  {
   "cell_type": "code",
   "execution_count": null,
   "id": "ecb982db-7805-4786-9f9a-780bf74402d5",
   "metadata": {},
   "outputs": [],
   "source": [
    "# Librerías\n",
    "import math\n",
    "import numpy as np\n",
    "from matplotlib import pyplot as plt\n",
    "\n",
    "def buscarIndiceCercano(x, array):\n",
    "    # calculate the difference array\n",
    "    difference_array = np.absolute(array - x)\n",
    "     \n",
    "    # find the index of minimum element from the array\n",
    "    return difference_array.argmin()"
   ]
  },
  {
   "cell_type": "markdown",
   "id": "446a41ce-e549-4080-9fdc-c7323fd6613b",
   "metadata": {},
   "source": [
    "#### Funciones de conjuntos difusos"
   ]
  },
  {
   "cell_type": "code",
   "execution_count": null,
   "id": "00aa3ca1-5bd4-4ee6-93c6-f06a73e7f132",
   "metadata": {},
   "outputs": [],
   "source": [
    "# a: pendiente\n",
    "# c: desplazamiento\n",
    "def sigmoide(x, a = 2, c = 0):\n",
    "    return 1 / (1 + math.e ** (-a * (x - c)))\n",
    "\n",
    "# a: amplitud\n",
    "# b: ancho de la campana\n",
    "# c: desplazamiento\n",
    "def campana(x, a = 1, b = 3, c = 0):\n",
    "    return 1/(1 + abs((x-c)/a)**(2*b))"
   ]
  },
  {
   "cell_type": "markdown",
   "id": "a20861f7-2d36-45d3-bc6e-0064d0b60965",
   "metadata": {},
   "source": [
    "#### Imprimir"
   ]
  },
  {
   "cell_type": "code",
   "execution_count": null,
   "id": "51a129a5-2986-472e-a801-5d8a82234adc",
   "metadata": {},
   "outputs": [],
   "source": [
    "# Imprimir\n",
    "def plotArrayUniverse(universe, array, color, label, lw = 1.5, ls = \"-\", universe_lbl=\"x\"):\n",
    "    plt.plot(universe, array, color=color, label=label, linewidth=lw, linestyle=ls)\n",
    "    \n",
    "    plt.xlabel(universe_lbl)\n",
    "    plt.ylabel('\\u03bc')\n",
    "    plt.legend(loc='best')\n",
    "    plt.grid(True)\n",
    "\n",
    "def plotArrayX(array, color, label, lw = 1.5, ls = \"-\"):\n",
    "    plotArrayUniverse(x, array, color, label, lw=lw, ls=ls)\n",
    "\n",
    "## Paleta 3 colores\n",
    "def plot1(u, a, str = 'Frio'):\n",
    "    plotArrayUniverse(u, a, 'midnightblue', str, lw=3)\n",
    "\n",
    "def plot2(u, b, str = 'Templado'):\n",
    "    plotArrayUniverse(u, b, 'slateblue', str, lw=3)\n",
    "\n",
    "def plot3(u, c, str = 'Caliente'):\n",
    "    plotArrayUniverse(u, c, 'mediumpurple', str, lw=3)\n",
    "\n",
    "\n",
    "## A, B y C\n",
    "def plotA(universe, str = 'A'):\n",
    "    plot1(universe, a, str=str)\n",
    "\n",
    "def plotB(universe, str = 'B'):\n",
    "    plot2(universe, b, str=str)\n",
    "\n",
    "def plotC(universe, str = 'C'):\n",
    "    plot3(universe, c, str=str)\n",
    "\n",
    "# UNIVERSOS\n",
    "## X\n",
    "def plotX1(str = 'Frio'):\n",
    "    plot1(x, x1, str=str)\n",
    "\n",
    "def plotX2(str = 'Templado'):\n",
    "    plot2(x, x2, str=str)\n",
    "\n",
    "def plotX3(str = 'Caliente'):\n",
    "    plot3(x, x3, str=str)\n",
    "\n",
    "def plotX():\n",
    "    plt.title(\"Universo X\")\n",
    "    plotX1()\n",
    "    plotX2()\n",
    "    plotX3()\n",
    "\n",
    "## Y\n",
    "def plotY1(str = 'Nada de ejercicio'):\n",
    "    plot1(y, y1, str=str)\n",
    "\n",
    "def plotY2(str = 'Ejercio normal'):\n",
    "    plot2(y, y2, str=str)\n",
    "\n",
    "def plotY3(str = 'Mucho ejercicio'):\n",
    "    plot3(y, y3, str=str)\n",
    "\n",
    "def plotY():\n",
    "    plt.title(\"Universo Y\")\n",
    "    plotY1()\n",
    "    plotY2()\n",
    "    plotY3()\n",
    "    plt.xlabel(\"y\")\n",
    "\n",
    "## Z\n",
    "def plotZ1(str = 'Hidratarse poco'):\n",
    "    plot1(z, z1, str=str)\n",
    "\n",
    "def plotZ2(str = 'Hidratarse mucho'):\n",
    "    plot3(z, z2, str=str)\n",
    "\n",
    "def plotZ3(str = 'Hidratarse normal'):\n",
    "    plot2(z, z3, str=str)\n",
    "\n",
    "def plotZ():\n",
    "    plt.title(\"Universo Z\")\n",
    "    plotZ1()\n",
    "    plotZ2()\n",
    "    plotZ3()\n",
    "    plt.xlabel(\"z\")\n"
   ]
  },
  {
   "cell_type": "markdown",
   "id": "506770c0-dc55-4e69-95dc-2c72333239da",
   "metadata": {},
   "source": [
    "### Universos de entrada y salida"
   ]
  },
  {
   "cell_type": "code",
   "execution_count": null,
   "id": "7f193459-c1c1-44ca-a288-25e652a8a4ec",
   "metadata": {},
   "outputs": [],
   "source": [
    "# Entrada\n",
    "## Universo X (x temperatura promedio a la hora del ejercicio)\n",
    "x_0 = 0\n",
    "x_d = 50\n",
    "x_s = x_d/200\n",
    "x = np.arange(x_0,x_0 + x_d + x_s,x_s)\n",
    "\n",
    "## Universo Y (y minutos de ejercicio)\n",
    "y_0 = 0\n",
    "y_d = 125\n",
    "y_s = y_d/200\n",
    "y = np.arange(y_0,y_0 + y_d + y_s,y_s)\n",
    "\n",
    "## Universo Z (tomar z litros de agua)\n",
    "z_0 = 0\n",
    "z_d = 3\n",
    "z_s = z_d/200\n",
    "z = np.arange(z_0,z_0 + z_d + z_s, z_s)"
   ]
  },
  {
   "cell_type": "markdown",
   "id": "096e458e-a79a-4154-8557-539d889e184b",
   "metadata": {},
   "source": [
    "### Conjuntos de entrada"
   ]
  },
  {
   "cell_type": "markdown",
   "id": "c90ad41d-2aab-46e8-b9a6-beaec23bf174",
   "metadata": {},
   "source": [
    "#### Universo X"
   ]
  },
  {
   "cell_type": "code",
   "execution_count": null,
   "id": "c3c3d6b9-f6d9-46aa-9837-1a4a5db70d10",
   "metadata": {},
   "outputs": [],
   "source": [
    "## x1: Baja\n",
    "x1 = sigmoide(-x+16,a=0.6)\n",
    "\n",
    "## x2: Templado\n",
    "x2 = campana(x-24,a=6,b=3)\n",
    "\n",
    "## x3: Caliente\n",
    "x3 = sigmoide(x-30, a=0.6)\n",
    "\n",
    "plotX()"
   ]
  },
  {
   "cell_type": "markdown",
   "id": "538d5da0-a8ad-4c99-9980-204e7bb1c029",
   "metadata": {},
   "source": [
    "#### Universo Y"
   ]
  },
  {
   "cell_type": "code",
   "execution_count": null,
   "id": "3002a21f-73d4-4f83-b66d-f04d200d6d7e",
   "metadata": {},
   "outputs": [],
   "source": [
    "## y1: Nada de ejercicio\n",
    "y1 = sigmoide(-y+15,a=0.25)\n",
    "\n",
    "## y2: Ejercicio normal\n",
    "y2 = campana(y-50,a=22,b=2.5)\n",
    "\n",
    "## y3: Mucho ejercicio\n",
    "y3 = sigmoide(y-70, a=0.15)\n",
    "\n",
    "plotY()"
   ]
  },
  {
   "cell_type": "markdown",
   "id": "04bfd284-2312-455d-9cda-df91ad83721c",
   "metadata": {},
   "source": [
    "#### Universo Z"
   ]
  },
  {
   "cell_type": "code",
   "execution_count": null,
   "id": "1e0ff14b-99b3-4007-8c43-359eff01aa54",
   "metadata": {},
   "outputs": [],
   "source": [
    "## z1: Hidratarse poco\n",
    "z1 = 1-sigmoide(z-0.8,a=4)\n",
    "\n",
    "## z2: Hidratarse mucho\n",
    "z2 = sigmoide(z-1.75,a=4)\n",
    "\n",
    "## z3: Hidratarse normal\n",
    "z3 = campana(z,c=1.25,a=0.7)\n",
    "\n",
    "plotZ()"
   ]
  },
  {
   "cell_type": "markdown",
   "id": "e7029971-c5f2-4c38-9c84-acbd8bbb17f1",
   "metadata": {},
   "source": [
    "### Tabla de inferencia"
   ]
  },
  {
   "cell_type": "code",
   "execution_count": null,
   "id": "928e818d-0fc1-499c-9bb5-f5f506fc4c36",
   "metadata": {},
   "outputs": [],
   "source": [
    "\n",
    "def difusificar(p_x,p_y):\n",
    "    mu_x1 = x1[buscarIndiceCercano(p_x, x)]\n",
    "    mu_x2 = x2[buscarIndiceCercano(p_x, x)]\n",
    "    mu_x3 = x3[buscarIndiceCercano(p_x, x)]\n",
    "\n",
    "    mu_y1 = y1[buscarIndiceCercano(p_y, y)]\n",
    "    mu_y2 = y2[buscarIndiceCercano(p_y, y)]\n",
    "    mu_y3 = y3[buscarIndiceCercano(p_y, y)]\n",
    "\n",
    "    return {\n",
    "        \"mu_x\":[mu_x1,mu_x2,mu_x3],\n",
    "        \"mu_y\":[mu_y1,mu_y2,mu_y3]\n",
    "    }\n",
    "\n",
    "def aplicarReglas(mus):\n",
    "    max_z1 = 0\n",
    "    max_z2 = 0\n",
    "    max_z3 = 0\n",
    "## Si x1 y y1, entonces z1\n",
    "    max_z1 = np.maximum(max_z1, np.minimum(mus[\"mu_x\"][0],mus[\"mu_y\"][0]))\n",
    "## Si x2 y y1, entonces z1\n",
    "    max_z1 = np.maximum(max_z1, np.minimum(mus[\"mu_x\"][1],mus[\"mu_y\"][0]))\n",
    "## Si x3 y y1, entonces z3\n",
    "    max_z3 = np.maximum(max_z3, np.minimum(mus[\"mu_x\"][2],mus[\"mu_y\"][0]))\n",
    "## Si x1 y y2, entonces z3\n",
    "    max_z3 = np.maximum(max_z3, np.minimum(mus[\"mu_x\"][0],mus[\"mu_y\"][1]))\n",
    "## Si x2 y y2, entonces z3\n",
    "    max_z3 = np.maximum(max_z3, np.minimum(mus[\"mu_x\"][1],mus[\"mu_y\"][1]))\n",
    "## Si x3 y y2, entonces z2\n",
    "    max_z2 = np.maximum(max_z2, np.minimum(mus[\"mu_x\"][2],mus[\"mu_y\"][1]))\n",
    "## Si x1 y y3, entonces z2\n",
    "    max_z2 = np.maximum(max_z2, np.minimum(mus[\"mu_x\"][0],mus[\"mu_y\"][2]))\n",
    "## Si x2 y y3, entonces z2\n",
    "    max_z2 = np.maximum(max_z2, np.minimum(mus[\"mu_x\"][1],mus[\"mu_y\"][2]))\n",
    "## Si x3 y y3, entonces z2\n",
    "    max_z2 = np.maximum(max_z2, np.minimum(mus[\"mu_x\"][2],mus[\"mu_y\"][2]))\n",
    "\n",
    "    z1_recortado = np.minimum(z1,max_z1)\n",
    "    z2_recortado = np.minimum(z2,max_z2)\n",
    "    z3_recortado = np.minimum(z3,max_z3)\n",
    "    return {\"z1\":z1_recortado,\"z2\":z2_recortado,\"z3\":z3_recortado}\n",
    "\n",
    "def desdifusificar(zetas):\n",
    "    # TODO centroide\n",
    "    zc = np.maximum(zetas[\"z1\"], zetas[\"z2\"])\n",
    "    zc = np.maximum(zc, zetas[\"z3\"])\n",
    "    zponderado = z*zc\n",
    "    return np.sum(zponderado)/np.sum(zc)"
   ]
  },
  {
   "cell_type": "code",
   "execution_count": null,
   "id": "2d7686e4-c124-4db6-ae2b-961e2a2e9ed0",
   "metadata": {},
   "outputs": [],
   "source": [
    "zetas=aplicarReglas(difusificar(30,70))\n",
    "plot1(z, zetas[\"z1\"], str=\"Hidratarse poco\")\n",
    "plot2(z, zetas[\"z2\"], str=\"Hidratarse mucho\")\n",
    "plot3(z, zetas[\"z3\"], str=\"Hidratarse normal\")\n",
    "print(desdifusificar(zetas))"
   ]
  },
  {
   "cell_type": "code",
   "execution_count": null,
   "id": "0743de8d-9de1-4598-a5bb-fc0f81cd7c21",
   "metadata": {},
   "outputs": [],
   "source": [
    "xx, yy = np.meshgrid(x,y)\n",
    "Matrix = np.ndarray([len(x),len(y)])\n",
    "\n",
    "\n",
    "for i in range(len(xx)):\n",
    "    for j in range(len(yy)):\n",
    "        Matrix[i][j] = desdifusificar(aplicarReglas(difusificar(xx[i][j],yy[i][j])))"
   ]
  },
  {
   "cell_type": "code",
   "execution_count": null,
   "id": "54608488-18d6-4787-b51a-024830f21679",
   "metadata": {},
   "outputs": [],
   "source": [
    "from matplotlib import cm\n",
    "\n",
    "fig, ax = plt.subplots(subplot_kw={\"projection\": \"3d\"})\n",
    "surf = ax.plot_surface(xx, yy, Matrix, cmap=cm.coolwarm,\n",
    "                       linewidth=0, antialiased=False)\n",
    "\n",
    "plt.xlabel(\"Temperatura (°C)\")\n",
    "plt.ylabel(\"Minutos de ejercicio\")\n",
    "# ax.zaxis.set_label(\"Litros de agua a tomar\")"
   ]
  },
  {
   "cell_type": "code",
   "execution_count": null,
   "id": "689b9750-a3d5-43da-a185-f4c6096d0b04",
   "metadata": {},
   "outputs": [],
   "source": []
  }
 ],
 "metadata": {
  "kernelspec": {
   "display_name": "Python 3 (ipykernel)",
   "language": "python",
   "name": "python3"
  },
  "language_info": {
   "codemirror_mode": {
    "name": "ipython",
    "version": 3
   },
   "file_extension": ".py",
   "mimetype": "text/x-python",
   "name": "python",
   "nbconvert_exporter": "python",
   "pygments_lexer": "ipython3",
   "version": "3.12.2"
  }
 },
 "nbformat": 4,
 "nbformat_minor": 5
}
