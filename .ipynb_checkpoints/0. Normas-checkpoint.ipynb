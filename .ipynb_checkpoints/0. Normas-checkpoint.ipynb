{
 "cells": [
  {
   "cell_type": "markdown",
   "id": "7020ce6e-1122-4b99-b4de-743951985cac",
   "metadata": {},
   "source": [
    "# T-Normas"
   ]
  },
  {
   "cell_type": "code",
   "execution_count": 3,
   "id": "434cf1c2-1e66-48a3-860e-22f1ec7820f0",
   "metadata": {},
   "outputs": [],
   "source": [
    "def tnorma_dombi(a, b, p_lambda = 1):\n",
    "    return 1 / ( \n",
    "        1 + ( (1/a - 1)**p_lambda + (1/b - 1)**p_lambda ) ** (1/p_lambda) \n",
    "    )\n",
    "\n",
    "def tnorma_frank(a, b, s = 0.5):\n",
    "    return np.emath.logn(s, (\n",
    "        1 + (((s ** (1-a) - 1) * (s ** (1-b) - 1)) / (s-1))\n",
    "    ))\n",
    "\n",
    "def tnorma_hamacher(a, b, r = 1):\n",
    "    return a * b / (\n",
    "        r + (1 - r)*(a + b - a*b)\n",
    "    )"
   ]
  },
  {
   "cell_type": "markdown",
   "id": "9192176f-eeba-43d5-8994-4a3e4d95d127",
   "metadata": {},
   "source": [
    "# S-Normas"
   ]
  },
  {
   "cell_type": "code",
   "execution_count": 2,
   "id": "241b7518-945a-44ee-9423-de1a904f97a2",
   "metadata": {},
   "outputs": [],
   "source": [
    "# lambda > 0\n",
    "def snorma_dombi(a, b, p_lambda = 1):\n",
    "    return 1 / ( \n",
    "        1 + ( (1/a - 1)**p_lambda + (1/b - 1)**p_lambda ) ** (-1/p_lambda) \n",
    "    )\n",
    "\n",
    "# s > 0, s != 1\n",
    "def snorma_frank(a, b, s = 0.5):\n",
    "    return 1 - np.emath.logn(s, (\n",
    "        1 + (((s ** (1-a) - 1) * (s ** (1-b) - 1)) / (s-1))\n",
    "    ))\n",
    "\n",
    "# r > 0\n",
    "def snorma_hamacher(a, b, r = 1):\n",
    "    return (a + b + (r - 2) * a*b) / (r + (r - 1) * a*b)"
   ]
  }
 ],
 "metadata": {
  "kernelspec": {
   "display_name": "Python 3 (ipykernel)",
   "language": "python",
   "name": "python3"
  },
  "language_info": {
   "codemirror_mode": {
    "name": "ipython",
    "version": 3
   },
   "file_extension": ".py",
   "mimetype": "text/x-python",
   "name": "python",
   "nbconvert_exporter": "python",
   "pygments_lexer": "ipython3",
   "version": "3.12.2"
  }
 },
 "nbformat": 4,
 "nbformat_minor": 5
}
