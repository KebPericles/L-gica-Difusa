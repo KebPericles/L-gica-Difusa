{
 "cells": [
  {
   "cell_type": "markdown",
   "id": "91c201bb-9910-4cc2-9e35-c700dc4c837e",
   "metadata": {},
   "source": [
    "# Tarea 1.4 Caracterización de universos de discurso\n",
    "\n",
    "Basado en su propuesta hecha en clase sobre seleccionar una variable y realizar su caracterización empleando funciones difusas obtenga:\n",
    "- Gráfica de la caracterización empleando funciones difusas discretas (triángulos y/o trapecios).\n",
    "- Gráfica de la caracterización empleando funciones difusas continuas (gaussianas, campanas generalizadas y/o sigmoides).\n",
    "\n",
    "Agregar su diseño (bosquejo), código y gráficas resultantes a un archivo de word o pdf."
   ]
  },
  {
   "cell_type": "code",
   "execution_count": null,
   "id": "44926976-5dcd-4cb7-8a25-f4a0cf841738",
   "metadata": {},
   "outputs": [],
   "source": []
  },
  {
   "cell_type": "code",
   "execution_count": null,
   "id": "a72d3c1a-c20a-4cee-8139-220279977a5e",
   "metadata": {},
   "outputs": [],
   "source": []
  }
 ],
 "metadata": {
  "kernelspec": {
   "display_name": "Python 3 (ipykernel)",
   "language": "python",
   "name": "python3"
  },
  "language_info": {
   "codemirror_mode": {
    "name": "ipython",
    "version": 3
   },
   "file_extension": ".py",
   "mimetype": "text/x-python",
   "name": "python",
   "nbconvert_exporter": "python",
   "pygments_lexer": "ipython3",
   "version": "3.12.2"
  }
 },
 "nbformat": 4,
 "nbformat_minor": 5
}
