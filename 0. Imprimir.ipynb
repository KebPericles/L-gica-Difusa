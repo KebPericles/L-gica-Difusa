{
 "cells": [
  {
   "cell_type": "markdown",
   "id": "93c0f299-7603-46c8-888c-6a9e64c34622",
   "metadata": {},
   "source": [
    "# Imprimir\n",
    "\n",
    "## Colores OwO\n",
    "https://matplotlib.org/stable/gallery/color/named_colors.html\n",
    "## Código"
   ]
  },
  {
   "cell_type": "code",
   "execution_count": 1,
   "id": "eae70e28-44ac-455b-aca5-06483dfe36b0",
   "metadata": {},
   "outputs": [],
   "source": [
    "from matplotlib import pyplot as plt"
   ]
  },
  {
   "cell_type": "code",
   "execution_count": 2,
   "id": "0b7d5083-db44-4488-a5bc-a475b1f11404",
   "metadata": {},
   "outputs": [],
   "source": [
    "# Imprimir generalizada\n",
    "def plotArray(array, color, label, lw = 1, ls = \"-\"):\n",
    "    plt.plot(x, array, color=color, label=label, linewidth=lw, linestyle=ls)\n",
    "    \n",
    "    plt.xlabel('x')\n",
    "    plt.ylabel('\\u03bc')\n",
    "    plt.legend(loc='best')\n",
    "    plt.grid(True)"
   ]
  },
  {
   "cell_type": "code",
   "execution_count": null,
   "id": "77180d6a-5732-4ce4-b73c-62323cb0b83d",
   "metadata": {},
   "outputs": [],
   "source": [
    "# Funciones imprimir\n",
    "def plotA():\n",
    "    plotArray(a, 'mediumpurple', 'Transistor')\n",
    "\n",
    "def plotB():\n",
    "    plotArray(b, 'blue', 'Resistor')\n",
    "\n",
    "def plotAB():\n",
    "    plotA()\n",
    "    plotB()\n",
    "\n",
    "def plotC(str = ''):\n",
    "    plotArray(c, 'orange', str, lw=1.5, ls='-.')\n",
    "\n",
    "def plot(title=''):\n",
    "    plotAB()\n",
    "    plotC(title)"
   ]
  }
 ],
 "metadata": {
  "kernelspec": {
   "display_name": "Python 3 (ipykernel)",
   "language": "python",
   "name": "python3"
  },
  "language_info": {
   "codemirror_mode": {
    "name": "ipython",
    "version": 3
   },
   "file_extension": ".py",
   "mimetype": "text/x-python",
   "name": "python",
   "nbconvert_exporter": "python",
   "pygments_lexer": "ipython3",
   "version": "3.12.2"
  }
 },
 "nbformat": 4,
 "nbformat_minor": 5
}
